{
 "cells": [
  {
   "cell_type": "code",
   "execution_count": 1,
   "id": "5dff6269",
   "metadata": {},
   "outputs": [],
   "source": [
    "import os\n",
    "from PIL import Image\n",
    "import PIL\n",
    "import matplotlib.pyplot as plt"
   ]
  },
  {
   "cell_type": "code",
   "execution_count": 10,
   "id": "494c1c66",
   "metadata": {},
   "outputs": [],
   "source": [
    "dir = 'C:/Users/solar/Downloads/skyrimNature/trainBpre' #where all the extracted frames are\n",
    "os.chdir(dir)"
   ]
  },
  {
   "cell_type": "code",
   "execution_count": 11,
   "id": "7e313cd0",
   "metadata": {},
   "outputs": [],
   "source": [
    "picList = os.listdir() \n",
    "while(len(picList)%3 != 0): #makes it so we can only create triplets (make sure to have at least 3 files in directory)\n",
    "    picList.pop()"
   ]
  },
  {
   "cell_type": "code",
   "execution_count": null,
   "id": "3514c2b1",
   "metadata": {},
   "outputs": [],
   "source": [
    "for i in range(len(picList)//3):\n",
    "    imgList = []\n",
    "    for j in range(3):\n",
    "        imgList.append(Image.open('./'+picList.pop()))\n",
    "    \n",
    "    myheight = 256\n",
    "    \n",
    "    for idx,img in enumerate(imgList):\n",
    "#         #scale\n",
    "#         hpercent = (myheight/float(img.size[1]))\n",
    "#         wsize = int((float(img.size[0])*float(hpercent)))\n",
    "#         img = img.resize((wsize,myheight), PIL.Image.ANTIALIAS)\n",
    "        \n",
    "        #crop\n",
    "        width, height = img.size   # Get dimensions\n",
    "        left = (width - 256)/2\n",
    "        top = (height - 256)/2\n",
    "        right = (width + 256)/2\n",
    "        bottom = (height + 256)/2\n",
    "        imgList[idx] = img.crop((left, top, right, bottom))\n",
    "    \n",
    "\n",
    "    #concatenate\n",
    "    triplet = Image.new('RGB', (768,256))\n",
    "    triplet.paste(imgList[0], (0, 0))\n",
    "    triplet.paste(imgList[1], (256, 0))\n",
    "    triplet.paste(imgList[2], (512, 0))\n",
    "    \n",
    "    saveDirectory = 'C:/Users/solar/Downloads/skyrimNature/trainB/' #save location\n",
    "    \n",
    "    triplet.save(saveDirectory+'mctriplet'+str(i)+'.png', 'PNG')"
   ]
  },
  {
   "cell_type": "code",
   "execution_count": 5,
   "id": "7d14f9bc",
   "metadata": {
    "scrolled": true
   },
   "outputs": [
    {
     "data": {
      "text/plain": [
       "0"
      ]
     },
     "execution_count": 5,
     "metadata": {},
     "output_type": "execute_result"
    }
   ],
   "source": [
    "len(picList)"
   ]
  },
  {
   "cell_type": "code",
   "execution_count": null,
   "id": "e13311b3",
   "metadata": {},
   "outputs": [],
   "source": []
  }
 ],
 "metadata": {
  "kernelspec": {
   "display_name": "Python 3",
   "language": "python",
   "name": "python3"
  },
  "language_info": {
   "codemirror_mode": {
    "name": "ipython",
    "version": 3
   },
   "file_extension": ".py",
   "mimetype": "text/x-python",
   "name": "python",
   "nbconvert_exporter": "python",
   "pygments_lexer": "ipython3",
   "version": "3.8.8"
  }
 },
 "nbformat": 4,
 "nbformat_minor": 5
}
